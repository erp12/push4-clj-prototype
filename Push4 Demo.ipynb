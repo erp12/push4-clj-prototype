{
 "cells": [
  {
   "cell_type": "code",
   "execution_count": 1,
   "metadata": {},
   "outputs": [],
   "source": [
    "(ns push4-clj.notebook\n",
    "    (:require [clojure.spec.alpha :as s]\n",
    "              [clojure.pprint :as pp]\n",
    "              [push4-clj.expression :as expr]\n",
    "              [push4-clj.spec-utils :as su]\n",
    "              [push4-clj.dag :as dag]\n",
    "              [push4-clj.push :as push]))"
   ]
  },
  {
   "attachments": {},
   "cell_type": "markdown",
   "metadata": {},
   "source": [
    "# Push4 (Name TBD) Overview\n",
    "\n",
    "The goals of this Push system are:\n",
    "\n",
    "1. Evolve programs that utilize the pre-existing functions instead of hand-written instruction sets.\n",
    "2. Evolve programs that can use any and all (immutable) data types.\n",
    "3. Produce source code in the host language (Clojure) as an output.\n",
    "\n",
    "This version of Push differs from Push3 (Clojush) in a number of ways:\n",
    "\n",
    "1. Push execution produces the evolved, executable program. In a sense, Push is acting as a compiler.\n",
    "2. The input to the system is a set of **expressions** that consist of some `code` and some `spec`.\n",
    "    1. The `code` can be a function, literal, or input.\n",
    "    2. The `spec` is a Clojure spec that describes the `code`. This is used to build programs free of runtime errors.\n",
    "3. There is only one stack in the Push state. It holds DAGs of expressions.\n",
    "\n",
    "This notebook demonstrates the following\n",
    "\n",
    "1. The setup required. Mainly, defining expressions.\n",
    "2. The compilation of a linear Push program to a DAG.\n",
    "3. The execution of the DAG as a program.\n",
    "4. The translation of the DAG to Clojure source code.\n",
    "\n",
    "The prototype library (`push4-clj`) used by this notebook can be found [here](https://github.com/erp12/push4-clj-prototype). It clocks in at under 350 lines of code."
   ]
  },
  {
   "cell_type": "code",
   "execution_count": 2,
   "metadata": {},
   "outputs": [
    {
     "data": {
      "text/plain": [
       "#'push4-clj.notebook/seq?-spec"
      ]
     },
     "execution_count": 2,
     "metadata": {},
     "output_type": "execute_result"
    }
   ],
   "source": [
    ";; To start, we define some specs that wrap simple Clojure predicates.\n",
    "\n",
    "(def number?-spec\n",
    "  (s/spec number?))\n",
    "\n",
    "\n",
    "(def int?-spec\n",
    "  (s/spec int?))\n",
    "\n",
    "\n",
    "(def seq?-spec\n",
    "  (s/spec seq?))"
   ]
  },
  {
   "attachments": {},
   "cell_type": "markdown",
   "metadata": {},
   "source": [
    "A Push language implementation should obey the law of **no runtime errors**. To accomplish this while still allowing an arbitrary set of functions to appear in the genomes/programs, we need to understand which functions produce values that can be safely used as arguments to other functions.\n",
    "\n",
    "This is the job of a function spec. `clojure.spec` already has function specs that are a composition of other specs for the individual arguments and return value. Ideally, our Push system would accept these specs and extract the individual arg specs and return spec in order to understand which functions can be called to produce a valid argument to another function. Unfortunately, I could not find a way to extract individual argument specs from the existing function specs.\n",
    "\n",
    "\n",
    "### Deconstructed Function Spec (DFS)\n",
    "\n",
    "To solve this problem, we use a \"deconstructed function spec\" map that simply holds 1) a vector of specs for the function's args and 2) a single spec for the function's return value. A DFS definition for the `conj` function might look something like this:\n",
    "\n",
    "```clojure\n",
    "{::arg-specs   [(s/spec coll?) (s/spec any?)]\n",
    " ::return-spec (s/spec coll?)}\n",
    "```\n",
    "\n",
    "### Expressions\n",
    "\n",
    "An expression is simply a map that wraps some code that produces a value. An expression can wrap a constant value, a function, or a symbol/position corresponding to one of the inputs that will be supplied to the evolved program.\n",
    "\n",
    "Expressions that wrap constant values are called literal expressions. They only require the literal value to be created.\n",
    "\n",
    "Expressions that wrap a function require a name/symbol, a DFS, and the function object.\n",
    "\n",
    "Expressions that wrap a program input require a name/symbol, a spec, and the position the input falls within the argument list."
   ]
  },
  {
   "cell_type": "code",
   "execution_count": 3,
   "metadata": {},
   "outputs": [
    {
     "data": {
      "text/plain": [
       "#'push4-clj.notebook/simple-numeric-fn-dfs"
      ]
     },
     "execution_count": 3,
     "metadata": {},
     "output_type": "execute_result"
    }
   ],
   "source": [
    ";; This DFS describes all functions that take two numbers and return a single number.\n",
    "\n",
    "(def simple-numeric-fn-dfs\n",
    "  (expr/make-dfs [number?-spec number?-spec] number?-spec))"
   ]
  },
  {
   "cell_type": "code",
   "execution_count": 4,
   "metadata": {},
   "outputs": [
    {
     "data": {
      "text/plain": [
       "#'push4-clj.notebook/expressions"
      ]
     },
     "execution_count": 4,
     "metadata": {},
     "output_type": "execute_result"
    }
   ],
   "source": [
    ";; A map of all epxressions we would provide the PushGP system. We are using a small set for the demo.\n",
    ";; We give each expression a keyword for convinience. \n",
    "(def expressions\n",
    "  {:+      (expr/fn->expression '+ + simple-numeric-fn-dfs)\n",
    "   :-      (expr/fn->expression '- - simple-numeric-fn-dfs)\n",
    "   :*      (expr/fn->expression '* * simple-numeric-fn-dfs)\n",
    "   :/      (expr/fn->expression '/ / simple-numeric-fn-dfs)\n",
    "   :int    (expr/fn->expression 'int int (expr/make-dfs [number?-spec] int?-spec))\n",
    "   :take   (expr/fn->expression 'take take (expr/make-dfs [int?-spec seq?-spec] seq?-spec))\n",
    "   :count  (expr/fn->expression 'count count (expr/make-dfs [seq?-spec] (s/spec nat-int?)))\n",
    "   :2      (expr/lit->expression 2)\n",
    "   :10     (expr/lit->expression 10)\n",
    "   :my-seq (expr/sym-expression 'my-seq seq?-spec 0)})"
   ]
  },
  {
   "cell_type": "markdown",
   "metadata": {},
   "source": [
    "After defining all the expressions, we can find the set of unique specs that exist throughout all function arguments, function return types, and program inputs. This is called the `spec-set`.\n",
    "\n",
    "Next, we need to understand which specs are strictly broader than other specs. The best term I could think of is spec \"dominance\". Spec `A` \"dominates\" spec `B` if all valid values of spec `B` are also valid values of spec `A`. Using this information, we can produce programs with no runtime errors (assuming all functions are correctly spec-ed).\n",
    "If we know that $S_2$ dominates $S_1$, then any function which requires a valid $S_2$ argument can get its argument from the returned value of a function which produces a valid $S_1$.\n",
    "\n",
    "As far as I am aware, there is no 100% accurate way to compare two specs and determine if one dominates the other. It is, however, possible to make a good guess by using `clojure.spec.gen` generator capabilities. Given a spec, $S_1$ we can generate a large sample of valid values (I used 1000). If every element of the sample is a valid value of another spec, $S_2$, then we can assume that $S_2$ dominates $S_1$. "
   ]
  },
  {
   "cell_type": "code",
   "execution_count": 5,
   "metadata": {},
   "outputs": [
    {
     "data": {
      "text/plain": [
       "#'push4-clj.notebook/spec-dominance-map"
      ]
     },
     "execution_count": 5,
     "metadata": {},
     "output_type": "execute_result"
    }
   ],
   "source": [
    "(def spec-dominance-map\n",
    "  (su/spec-dominance (expr/expressions->spec-set (vals expressions))))\n",
    "\n",
    ";; Spec-set\n",
    ";;   number?\n",
    ";;   int?\n",
    ";;   nat-int?\n",
    ";;   seq?\n",
    "\n",
    ";; Spec Dominance\n",
    ";;   number? dominates [int? nat-int?]\n",
    ";;   int?    dominates [nat-int?]"
   ]
  },
  {
   "cell_type": "markdown",
   "metadata": {},
   "source": [
    "For this demo, our \"genome\" will be the following sequence of expressions. We will be evaluating this genome as a Push program, however in future versions of this Push system we would want to do the typical translation from linear genome to a nested Push program.\n",
    "\n",
    "In addition to expressions, nested Push programs may contain stack instructions (dup, rot, reverse, etc) and exec instruction (exec_dup, exec_rot, etc). These instructions must not take any arguments other than the stack and/or the remaining program being evaluated.\n",
    "\n",
    "**For this demo, we will be producing a program that takes the first half a sequence and drops the rest.**"
   ]
  },
  {
   "cell_type": "code",
   "execution_count": 6,
   "metadata": {},
   "outputs": [
    {
     "data": {
      "text/plain": [
       "#'push4-clj.notebook/take-first-half-genome"
      ]
     },
     "execution_count": 6,
     "metadata": {},
     "output_type": "execute_result"
    }
   ],
   "source": [
    "(def take-first-half-genome\n",
    "  (map expressions\n",
    "       [:2 :my-seq :count :/ :int :my-seq :take]))"
   ]
  },
  {
   "cell_type": "markdown",
   "metadata": {},
   "source": [
    "### Push as a compiler\n",
    "\n",
    "The goal of Push genomee/program execution is **not** to run the evolved program on a set of inputs. Instead, Push execution does not take any arguments and produces a DAG of expressions that can be used as a program. \n",
    "\n",
    "There is no need for control flow in the Push program. Iteration may be used to create redundant parts of the DAG. Duplicating expressions may be done as a way to re-use the output of one expression as the input to multiple other expressions.\n",
    "\n",
    "### One Stack\n",
    "\n",
    "In a typical PushGP system, there is ambiguity as to which stack to pop an argument from **when there is any overlap/heirachy/inheritance of data types**. If we want to scale to \"real-world\" applications and/or integrate with existing code-bases, we will encounter overlapping types.\n",
    "\n",
    "Functions which can take integers as arguments can, by definition, take their arguments from functions that produce strictly positive integers. A function which takes natural integers *cannot* safely take a value from a function that produces integers.\n",
    "\n",
    "There are multiple strategies to fix this, but I (arbitrarily) chose to collapse the entire Push state down to one stack. When processing an expression from the Push program, its argument (aka child) expressions are found by starting from the top of the stack and traversing down each element. Using the spec \"dominance\" information we computed above, we can check if the stack element produces a value of the argument spec *or* a narrower spec that will be guarenteed not to cause runtime errors. If no, we move down the stack one item.\n",
    "\n",
    "Once the entire Push program has been evaluated, we traverse the stack once more. This time we are looking for the top-most expression DAG whose return spec is the return spec for our evoled program or a narrower spec."
   ]
  },
  {
   "cell_type": "code",
   "execution_count": 7,
   "metadata": {},
   "outputs": [
    {
     "data": {
      "text/plain": [
       "#'push4-clj.notebook/program"
      ]
     },
     "execution_count": 7,
     "metadata": {},
     "output_type": "execute_result"
    }
   ],
   "source": [
    "(def program\n",
    "    (push/compile-to-dag take-first-half-genome  ;; Genome (linear Push program) to conver to a DAG\n",
    "                         seq?-spec               ;; We would like the DAG (evolved program) to prodce a Seq.\n",
    "                         spec-dominance-map))    ;; The spec dominace info computeed above."
   ]
  },
  {
   "cell_type": "markdown",
   "metadata": {},
   "source": [
    "After \"compiling\" the program, we can evaluate it on some input sequences. This is how we would perform evaluation during evolution. This does not require re-running Push."
   ]
  },
  {
   "cell_type": "code",
   "execution_count": 18,
   "metadata": {},
   "outputs": [
    {
     "name": "stdout",
     "output_type": "stream",
     "text": [
      "First half of 20 element seq\t (0 1 2 3 4 5 6 7 8 9)\n",
      "First half of 4 element vec\t (:A :B)\n",
      "First half of empty list\t ()\n"
     ]
    }
   ],
   "source": [
    "(println \"First half of 20 element seq\\t\" (dag/eval-dag program [(range 20)]))\n",
    "(println \"First half of 4 element vec\\t\"  (dag/eval-dag program [[:A :B :C :D]]))\n",
    "(println \"First half of empty list\\t\"     (dag/eval-dag program ['()]))"
   ]
  },
  {
   "cell_type": "markdown",
   "metadata": {},
   "source": [
    "### Producing Clojure Code\n",
    "\n",
    "We can convert the DAG to Clojure code."
   ]
  },
  {
   "cell_type": "code",
   "execution_count": 9,
   "metadata": {},
   "outputs": [
    {
     "name": "stdout",
     "output_type": "stream",
     "text": [
      "(take (int (/ (count my-seq) 2)) my-seq)\n"
     ]
    }
   ],
   "source": [
    "(println (dag/dag->code program))"
   ]
  },
  {
   "cell_type": "markdown",
   "metadata": {},
   "source": [
    "We can also supply a function name/symbol and some argument names to produce an entire function `defn`."
   ]
  },
  {
   "cell_type": "code",
   "execution_count": 10,
   "metadata": {},
   "outputs": [
    {
     "name": "stdout",
     "output_type": "stream",
     "text": [
      "(clojure.core/defn\n",
      " take-first-half\n",
      " [my-seq]\n",
      " (take (int (/ (count my-seq) 2)) my-seq))\n"
     ]
    }
   ],
   "source": [
    "(pp/pprint (dag/dag->defn 'take-first-half ['my-seq] program))"
   ]
  },
  {
   "cell_type": "markdown",
   "metadata": {},
   "source": [
    "I don't have a clever way to get the formatting right, but let's try it out!"
   ]
  },
  {
   "cell_type": "code",
   "execution_count": 11,
   "metadata": {},
   "outputs": [
    {
     "data": {
      "text/plain": [
       "#'push4-clj.notebook/take-first-half"
      ]
     },
     "execution_count": 11,
     "metadata": {},
     "output_type": "execute_result"
    }
   ],
   "source": [
    "(clojure.core/defn\n",
    " take-first-half\n",
    " [my-seq]\n",
    " (take (int (/ (count my-seq) 2)) my-seq))"
   ]
  },
  {
   "cell_type": "code",
   "execution_count": 12,
   "metadata": {},
   "outputs": [
    {
     "data": {
      "text/plain": [
       "(:a :b)"
      ]
     },
     "execution_count": 12,
     "metadata": {},
     "output_type": "execute_result"
    }
   ],
   "source": [
    "(take-first-half [:a :b :c :d])"
   ]
  },
  {
   "cell_type": "code",
   "execution_count": 13,
   "metadata": {},
   "outputs": [
    {
     "data": {
      "text/plain": [
       "()"
      ]
     },
     "execution_count": 13,
     "metadata": {},
     "output_type": "execute_result"
    }
   ],
   "source": [
    "(take-first-half '())"
   ]
  },
  {
   "cell_type": "code",
   "execution_count": 14,
   "metadata": {},
   "outputs": [
    {
     "data": {
      "text/plain": [
       "(0 1 2 3 4)"
      ]
     },
     "execution_count": 14,
     "metadata": {},
     "output_type": "execute_result"
    }
   ],
   "source": [
    "(take-first-half (range 10))"
   ]
  },
  {
   "cell_type": "code",
   "execution_count": null,
   "metadata": {},
   "outputs": [],
   "source": []
  }
 ],
 "metadata": {
  "kernelspec": {
   "display_name": "Lein-Clojure",
   "language": "clojure",
   "name": "lein-clojure"
  },
  "language_info": {
   "file_extension": ".clj",
   "mimetype": "text/x-clojure",
   "name": "clojure",
   "version": "1.10.1"
  }
 },
 "nbformat": 4,
 "nbformat_minor": 2
}
